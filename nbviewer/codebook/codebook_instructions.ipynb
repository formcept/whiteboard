{
 "cells": [
  {
   "cell_type": "markdown",
   "metadata": {},
   "source": [
    "![smiley](images/logo.png)\n",
    "\n",
    "# Polyglot Codebook\n",
    "---\n",
    "* This notebook serves the need of having multiple language coding environment at same place.\n",
    "* We will be discussing basic call using <b>native libraries</b> for few languages. The same approach can be extended to different languages with their respective <b>HTTP request</b> packages\n",
    "* We will be using our <b>Language Detection API</b> as our toy example. The same approach can be extended to other APIs as well with their <b>respective parameters</b>.\n",
    "* We have setup our Jupyter Notebook for the below mentioned programming languages:\n",
    "   1. <b>Python</b>\n",
    "   2. <b>Scala</b>\n",
    "   3. <b>Clojure</b>\n",
    "   4. <b>R</b>\n",
    "   5. <b>Julia</b>\n",
    "   6. <b>Octave</b>\n",
    "   7. <b>Ruby</b>\n",
    "<br>\n",
    "* We have bunch of Text Analytics APIs hosted on our server. [Click here](http://localhost:7777/nlp/) to know more.\n",
    "\n",
    "---"
   ]
  },
  {
   "cell_type": "markdown",
   "metadata": {},
   "source": [
    "## Where do you get the notebook ?\n",
    "We have hosted our notebook to the <b>Docker Hub Registry</b>. Please, follow below mentioned steps to get the image and execute in a <b>standalone mode</b>.\n",
    "\n",
    "1. <i>docker pull formcept/notebook:jupyter</i>\n",
    "2. <i>docker run -d -p 8888:8888 --name jupyter-notebook formcept/notebook:jupyter</i>\n",
    "3. Go to [localhost:8888](localhost:8888) in your browser.\n",
    "\n",
    "----\n",
    "\n",
    "\n",
    "## What's in the box ?\n",
    "We support <b>base packages</b> for each of the above mentioned languages. Also, in addition <b>HTTP packges</b> are pre-installed for all the languages. Below is the list of HTTP packages for each of the language.\n",
    "\n",
    "1. <b>R</b> - <i>(httr)</i>\n",
    "2. <b>Python</b> - <i>(requests)</i>\n",
    "3. <b>Octave</b> - <i>(urlread)</i>\n",
    "4. <b>Julia</b> - <i>(Requests)</i>\n",
    "5. <b>Ruby</b> - <i>(net/http)</i>\n",
    "6. <b>Clojure</b> - <i>(pomegranate), (http-kit)</i>\n",
    "\n",
    "----\n",
    "\n",
    "\n",
    "## Installing out-of-the box dependencies ?\n",
    "\n",
    "#### Python\n",
    "* **!pip install package-name** from the notebook shell or you can launch terminal from the jupyter notebook and install the desired packages using **pip**/**apt-get**.\n",
    "* **Restart** the notebook.\n",
    "You are good to go!\n",
    "\n",
    "#### Clojure\n",
    "* Firstly, import **(use '[cemerick.pomegranate :only (add-dependencies)])**\n",
    "* Install the dependencies by adding it in the below given command.\n",
    "\n",
    "**(add-dependencies :coordinates '[[cheshire \"5.7.1\"] [http-kit \"2.2.0\"]] :repositories {\"clojars\" \"https://clojars.org/repo\"})**\n",
    "\n",
    "* **Restart** the notebook. \n",
    "You are good to go!\n",
    "\n",
    "#### R\n",
    "* **install.packages('package-name')** from the notebook shell or you can launch terminal from the jupyter notebook and install the desired packages from **R shell**.\n",
    "* **Restart** the notebook.\n",
    "You are good to go!\n",
    "\n",
    "\n",
    "#### Julia\n",
    "* **Pkg.add(\"package-name\")** from the notebook shell or you can launch terminal from the jupyter notebook and install the desired packages from **Julia REPL**.\n",
    "* **Restart** the notebook.\n",
    "You are good to go!\n",
    "\n",
    "\n",
    "#### Ruby\n",
    "*  Launch terminal from the jupyter notebook and install the desired packages.\n",
    "* **Restart** the notebook.\n",
    "You are good to go!\n",
    "\n",
    "----\n",
    "----\n",
    "<b>P.S</b> - <b>We currently support packages that are required for calling FORMCEPT Text APIs. For futher support on extending notebook to more languages, write to us on </b> [contactus@formcept.com](contactus@formcept.com)"
   ]
  },
  {
   "cell_type": "markdown",
   "metadata": {},
   "source": [
    "### Demonstrating Toy Example with Python"
   ]
  },
  {
   "cell_type": "code",
   "execution_count": null,
   "metadata": {
    "collapsed": false
   },
   "outputs": [],
   "source": [
    "'''\n",
    "Copyright (c) 2011-onwards, FORMCEPT [http://www.formcept.com]\n",
    "All rights reserved.\n",
    "\n",
    "NOTICE:  All information contained herein is, and remains\n",
    "the property of FORMCEPT and its suppliers, if any.\n",
    "The intellectual and technical concepts contained\n",
    "herein are proprietary to FORMCEPT and its suppliers and\n",
    "may be covered by U.S. and Foreign Patents, patents in process,\n",
    "and are protected by trade secret or copyright law. Dissemination\n",
    "of this information or reproduction of this material\n",
    "is strictly forbidden unless prior written permission is obtained\n",
    "from FORMCEPT.\n",
    "'''\n",
    "\n",
    "# Here in this example, we will be demonstrating 'Language Detection API'\n",
    "\n",
    "# importing necessary packages\n",
    "import  requests\n",
    "\n",
    "# send POST request to 'endpoint' with 'payload'\n",
    "endpoint = 'http://localhost:7777/fc/lang'\n",
    "text = 'Flasgger is a Flask extension to help the creation of Flask APIs with documentation.'\n",
    "payload = {'txt_lang': text}\n",
    "headers = {'Content-type': 'application/json', 'Accept': 'application/json'}\n",
    "\n",
    "r = requests.post(endpoint, json = payload, headers = headers)\n",
    "print r.json()"
   ]
  },
  {
   "cell_type": "markdown",
   "metadata": {},
   "source": [
    "### Demonstrating Toy Example with Scala"
   ]
  },
  {
   "cell_type": "code",
   "execution_count": null,
   "metadata": {
    "collapsed": true
   },
   "outputs": [],
   "source": [
    "/*\n",
    "Copyright (c) 2011-onwards, FORMCEPT [http://www.formcept.com]\n",
    "All rights reserved.\n",
    "\n",
    "NOTICE:  All information contained herein is, and remains\n",
    "the property of FORMCEPT and its suppliers, if any.\n",
    "The intellectual and technical concepts contained\n",
    "herein are proprietary to FORMCEPT and its suppliers and\n",
    "may be covered by U.S. and Foreign Patents, patents in process,\n",
    "and are protected by trade secret or copyright law. Dissemination\n",
    "of this information or reproduction of this material\n",
    "is strictly forbidden unless prior written permission is obtained\n",
    "from FORMCEPT.\n",
    "*/\n",
    "\n",
    "// Here in this example, we will be demonstrating 'Language Detection API'\n",
    "\n",
    "// importing necessary packages\n",
    "import scalaj.http.Http\n",
    "\n",
    "endpoint = \"http://localhost:7777/fc/lang\"\n",
    "Http(endpoint).postData(\"\"\"{\"txt_lang\":\"Flasgger is a Flask extension to help the creation of Flask APIs with documentation.\",\"json\":\"data\"}\"\"\").header(\"Content-Type\", \"application/json\").header(\"Accept\", \"application/json\").asString"
   ]
  },
  {
   "cell_type": "markdown",
   "metadata": {},
   "source": [
    "### Demonstrating Toy Example with Clojure"
   ]
  },
  {
   "cell_type": "code",
   "execution_count": null,
   "metadata": {
    "collapsed": true
   },
   "outputs": [],
   "source": [
    "; Copyright (c) 2011-onwards, FORMCEPT [http://www.formcept.com]\n",
    "; All rights reserved.\n",
    "\n",
    "; NOTICE:  All information contained herein is, and remains\n",
    "; the property of FORMCEPT and its suppliers, if any.\n",
    "; The intellectual and technical concepts contained\n",
    "; herein are proprietary to FORMCEPT and its suppliers and\n",
    "; may be covered by U.S. and Foreign Patents, patents in process,\n",
    "; and are protected by trade secret or copyright law. Dissemination\n",
    "; of this information or reproduction of this material\n",
    "; is strictly forbidden unless prior written permission is obtained\n",
    "; from FORMCEPT.\n",
    "\n",
    "\n",
    "; Here in this example, we will be demonstrating 'Language Detection API'\n",
    "\n",
    "; Importing necessary packages\n",
    "(use 'org.httpkit.client)\n",
    "(use 'cheshire.core)\n",
    "\n",
    "@(post \"http://localhost:7777/fc/lang\"\n",
    "             {:headers {\"Content-Type\" \"application/json\"\n",
    "                              \"Accept\" \"application/json\"} \n",
    "              :body (generate-string {:txt_lang \"Flasgger is a Flask extension to help the creation of Flask APIs with documentation.\"})}))"
   ]
  },
  {
   "cell_type": "markdown",
   "metadata": {},
   "source": [
    "### Demonstrating Toy Example with R"
   ]
  },
  {
   "cell_type": "code",
   "execution_count": null,
   "metadata": {
    "collapsed": false
   },
   "outputs": [],
   "source": [
    "# Copyright (c) 2011-onwards, FORMCEPT [http://www.formcept.com]\n",
    "# All rights reserved.\n",
    "\n",
    "# NOTICE:  All information contained herein is, and remains\n",
    "# the property of FORMCEPT and its suppliers, if any.\n",
    "# The intellectual and technical concepts contained\n",
    "# herein are proprietary to FORMCEPT and its suppliers and\n",
    "# may be covered by U.S. and Foreign Patents, patents in process,\n",
    "# and are protected by trade secret or copyright law. Dissemination\n",
    "# of this information or reproduction of this material\n",
    "# is strictly forbidden unless prior written permission is obtained\n",
    "# from FORMCEPT.\n",
    "\n",
    "\n",
    "# Here in this example, we will be demonstrating 'Language Detection API'\n",
    "\n",
    "# Importing necessary packages\n",
    "library(httr)\n",
    "text <- \"Flasgger is a Flask extension to help the creation of Flask APIs with documentation.\"\n",
    "endpoint <- \"http://localhost:7777/fc/lang\"\n",
    "\n",
    "r <- POST(endpoint, body = list(txt_lang=text), encode=\"json\")\n",
    "print (content(r, \"text\"))"
   ]
  }
 ],
 "metadata": {
  "kernelspec": {
   "display_name": "Python 2",
   "language": "python",
   "name": "python2"
  },
  "language_info": {
   "codemirror_mode": {
    "name": "ipython",
    "version": 2
   },
   "file_extension": ".py",
   "mimetype": "text/x-python",
   "name": "python",
   "nbconvert_exporter": "python",
   "pygments_lexer": "ipython2",
   "version": "2.7.12"
  }
 },
 "nbformat": 4,
 "nbformat_minor": 1
}
